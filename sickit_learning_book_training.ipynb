{
 "cells": [
  {
   "cell_type": "markdown",
   "metadata": {},
   "source": [
    "# Cross validation "
   ]
  },
  {
   "cell_type": "code",
   "execution_count": 5,
   "metadata": {},
   "outputs": [],
   "source": [
    "\n",
    "\n",
    "from sklearn import datasets \n",
    "import numpy as np \n",
    "from sklearn.model_selection import train_test_split \n",
    "from sklearn import svm\n",
    "\n",
    "iris=datasets.load_iris()\n",
    "iris\n",
    "\n",
    "x = iris.data\n",
    "y = iris.target``"
   ]
  },
  {
   "cell_type": "code",
   "execution_count": 8,
   "metadata": {},
   "outputs": [
    {
     "data": {
      "text/plain": [
       "((90, 4), (60, 4))"
      ]
     },
     "execution_count": 8,
     "metadata": {},
     "output_type": "execute_result"
    }
   ],
   "source": [
    "x_train,x_test,y_train,y_test = train_test_split(x,y,random_state=38, test_size = .4)\n",
    "x_train.shape, x_test.shape"
   ]
  },
  {
   "cell_type": "code",
   "execution_count": 15,
   "metadata": {},
   "outputs": [
    {
     "data": {
      "text/plain": [
       "0.9666666666666667"
      ]
     },
     "execution_count": 15,
     "metadata": {},
     "output_type": "execute_result"
    }
   ],
   "source": [
    "clf = svm.SVC(kernel='linear',C=1)\n",
    "clf.fit(x_train,y_train)\n",
    "clf.score(x_test,y_test)"
   ]
  },
  {
   "cell_type": "code",
   "execution_count": 16,
   "metadata": {},
   "outputs": [],
   "source": [
    "# lets use cross validation \n",
    "from sklearn.model_selection import cross_val_score\n",
    "iris = datasets.load_iris()\n",
    "x = iris.data\n",
    "y = iris.target\n",
    "clf = svm.SVC(kernel='linear',C=1)\n",
    "score= cross_val_score(clf,x,y,cv=5)\n"
   ]
  },
  {
   "cell_type": "code",
   "execution_count": 22,
   "metadata": {},
   "outputs": [
    {
     "name": "stdout",
     "output_type": "stream",
     "text": [
      "Score of the model is:0.98 % (+/- 0.03)\n"
     ]
    }
   ],
   "source": [
    "print(f\"Score of the model is:{(score.mean()).round(2)} % (+/- {(score.std()*2).round(2)})\")"
   ]
  },
  {
   "cell_type": "code",
   "execution_count": 25,
   "metadata": {},
   "outputs": [
    {
     "name": "stdout",
     "output_type": "stream",
     "text": [
      "scores for mentioned selected model is 0.32% and with (+/- 0.4)\n"
     ]
    }
   ],
   "source": [
    "from sklearn.linear_model import LinearRegression \n",
    "from sklearn.model_selection import cross_val_score \n",
    "iris= datasets.load_iris()\n",
    "x = iris.data \n",
    "y = iris.target\n",
    "lm = LinearRegression()\n",
    "# time to use cross validation \n",
    "score = cross_val_score(lm,x,y,cv=5)\n",
    "print(f\"scores for mentioned selected model is {(score.mean()).round(2)}% and with (+/- {(score.std()).round(2)})\")"
   ]
  },
  {
   "cell_type": "markdown",
   "metadata": {},
   "source": [
    "### please note that i have two different scores when i used svm.SVC and "
   ]
  },
  {
   "cell_type": "code",
   "execution_count": 27,
   "metadata": {},
   "outputs": [
    {
     "name": "stdout",
     "output_type": "stream",
     "text": [
      "the general score is 0.32 with plus / minus 0.39\n"
     ]
    }
   ],
   "source": [
    "from sklearn.svm import SVR\n",
    "from sklearn.model_selection import cross_val_score \n",
    "iris = datasets.load_iris()\n",
    "x=iris.data\n",
    "y=iris.target\n",
    "rm = SVR(kernel='linear',C=1)\n",
    "score= cross_val_score(rm,x,y,cv=5)\n",
    "print(f\"the general score is {(score.mean()).round(2)} with plus / minus {(score.std()).round(2)}\")"
   ]
  },
  {
   "cell_type": "code",
   "execution_count": 28,
   "metadata": {},
   "outputs": [
    {
     "data": {
      "text/plain": [
       "array([0, 0, 0, 0, 0, 0, 0, 0, 0, 0, 0, 0, 0, 0, 0, 0, 0, 0, 0, 0, 0, 0,\n",
       "       0, 0, 0, 0, 0, 0, 0, 0, 0, 0, 0, 0, 0, 0, 0, 0, 0, 0, 0, 0, 0, 0,\n",
       "       0, 0, 0, 0, 0, 0, 1, 1, 1, 1, 1, 1, 1, 1, 1, 1, 1, 1, 1, 1, 1, 1,\n",
       "       1, 1, 1, 1, 1, 1, 1, 1, 1, 1, 1, 1, 1, 1, 1, 1, 1, 1, 1, 1, 1, 1,\n",
       "       1, 1, 1, 1, 1, 1, 1, 1, 1, 1, 1, 1, 2, 2, 2, 2, 2, 2, 2, 2, 2, 2,\n",
       "       2, 2, 2, 2, 2, 2, 2, 2, 2, 2, 2, 2, 2, 2, 2, 2, 2, 2, 2, 2, 2, 2,\n",
       "       2, 2, 2, 2, 2, 2, 2, 2, 2, 2, 2, 2, 2, 2, 2, 2, 2, 2])"
      ]
     },
     "execution_count": 28,
     "metadata": {},
     "output_type": "execute_result"
    }
   ],
   "source": []
  },
  {
   "cell_type": "code",
   "execution_count": 50,
   "metadata": {},
   "outputs": [
    {
     "name": "stdout",
     "output_type": "stream",
     "text": [
      "Score for model SVR(C=1, kernel='sigmoid') is 0.35 plus/minus 0.03\n",
      "Score for model LinearRegression() is 0.48 plus/minus 0.05\n"
     ]
    }
   ],
   "source": [
    "#  so iris dat was for classification models so that we have a regression data called diabetes\n",
    "# lets check the strenght of two models \n",
    "x=datasets.load_diabetes().data\n",
    "y=datasets.load_diabetes().target \n",
    "rm_svr = SVR(kernel='sigmoid' , C=1)\n",
    "rm_lr = LinearRegression()\n",
    "\n",
    "model =[rm_svr,rm_lr]\n",
    "for i in model :\n",
    "    score= cross_val_score(i,x,y,cv=5)\n",
    "    print(f\"Score for model {i} is {(score.mean()).round(2)} plus/minus {(score.std()).round(2)}\")\n",
    "\n",
    "\n",
    "\n"
   ]
  },
  {
   "cell_type": "code",
   "execution_count": 42,
   "metadata": {},
   "outputs": [
    {
     "data": {
      "text/plain": [
       "0.3865463441016189"
      ]
     },
     "execution_count": 42,
     "metadata": {},
     "output_type": "execute_result"
    }
   ],
   "source": [
    "# exp 1 test linear regression model score and cv linear score on regression data \n",
    "# Firstly \n",
    "df = datasets.load_diabetes()\n",
    "x = df.data\n",
    "y = df.target\n",
    "x_train,x_test,y_train,y_test=train_test_split(x,y,test_size=.4,random_state=0)\n",
    "lr=LinearRegression()\n",
    "lr.fit(x_train,y_train)\n",
    "lr.score(x_test,y_test)"
   ]
  },
  {
   "cell_type": "code",
   "execution_count": 51,
   "metadata": {},
   "outputs": [
    {
     "data": {
      "text/plain": [
       "0.30370200345245546"
      ]
     },
     "execution_count": 51,
     "metadata": {},
     "output_type": "execute_result"
    }
   ],
   "source": [
    "# exp 2 test that manually test svr \n",
    "lr = SVR(kernel='sigmoid', C=1)\n",
    "lr.fit(x_train,y_train )\n",
    "lr.score(x_test,y_test)"
   ]
  },
  {
   "cell_type": "markdown",
   "metadata": {},
   "source": [
    "# Grid Search "
   ]
  },
  {
   "cell_type": "markdown",
   "metadata": {},
   "source": [
    "Some times when researchers using ML models they change the parameters of model each time and test model to have best best scores \n",
    "grid search function is used to search each parameter user input to see and check and to give back best params \n",
    "in below cells will walk step by step to with sklearn user guide to master this tool as it very important to use. \n"
   ]
  },
  {
   "cell_type": "code",
   "execution_count": 52,
   "metadata": {},
   "outputs": [
    {
     "data": {
      "text/html": [
       "<div>\n",
       "<style scoped>\n",
       "    .dataframe tbody tr th:only-of-type {\n",
       "        vertical-align: middle;\n",
       "    }\n",
       "\n",
       "    .dataframe tbody tr th {\n",
       "        vertical-align: top;\n",
       "    }\n",
       "\n",
       "    .dataframe thead th {\n",
       "        text-align: right;\n",
       "    }\n",
       "</style>\n",
       "<table border=\"1\" class=\"dataframe\">\n",
       "  <thead>\n",
       "    <tr style=\"text-align: right;\">\n",
       "      <th></th>\n",
       "      <th>ID</th>\n",
       "      <th>Subscription length</th>\n",
       "      <th>Charge amount</th>\n",
       "      <th>Seconds of use</th>\n",
       "      <th>Frequency of use</th>\n",
       "      <th>Frequency of SMS</th>\n",
       "      <th>Distinct called numbers</th>\n",
       "      <th>Call failures</th>\n",
       "      <th>Tariff plan</th>\n",
       "      <th>Status</th>\n",
       "      <th>Age group</th>\n",
       "      <th>Complaints</th>\n",
       "      <th>Churn</th>\n",
       "    </tr>\n",
       "  </thead>\n",
       "  <tbody>\n",
       "    <tr>\n",
       "      <th>0</th>\n",
       "      <td>1</td>\n",
       "      <td>35</td>\n",
       "      <td>0</td>\n",
       "      <td>1420</td>\n",
       "      <td>41</td>\n",
       "      <td>36</td>\n",
       "      <td>20</td>\n",
       "      <td>1</td>\n",
       "      <td>A</td>\n",
       "      <td>Active</td>\n",
       "      <td>30-40</td>\n",
       "      <td>N</td>\n",
       "      <td>0</td>\n",
       "    </tr>\n",
       "    <tr>\n",
       "      <th>1</th>\n",
       "      <td>2</td>\n",
       "      <td>28</td>\n",
       "      <td>0</td>\n",
       "      <td>920</td>\n",
       "      <td>32</td>\n",
       "      <td>20</td>\n",
       "      <td>12</td>\n",
       "      <td>7</td>\n",
       "      <td>A</td>\n",
       "      <td>Active</td>\n",
       "      <td>Under 30</td>\n",
       "      <td>N</td>\n",
       "      <td>0</td>\n",
       "    </tr>\n",
       "    <tr>\n",
       "      <th>2</th>\n",
       "      <td>3</td>\n",
       "      <td>40</td>\n",
       "      <td>0</td>\n",
       "      <td>88</td>\n",
       "      <td>6</td>\n",
       "      <td>8</td>\n",
       "      <td>6</td>\n",
       "      <td>0</td>\n",
       "      <td>A</td>\n",
       "      <td>Inactive</td>\n",
       "      <td>30-40</td>\n",
       "      <td>N</td>\n",
       "      <td>1</td>\n",
       "    </tr>\n",
       "    <tr>\n",
       "      <th>3</th>\n",
       "      <td>4</td>\n",
       "      <td>38</td>\n",
       "      <td>0</td>\n",
       "      <td>13963</td>\n",
       "      <td>170</td>\n",
       "      <td>9</td>\n",
       "      <td>47</td>\n",
       "      <td>9</td>\n",
       "      <td>A</td>\n",
       "      <td>Active</td>\n",
       "      <td>30-40</td>\n",
       "      <td>N</td>\n",
       "      <td>0</td>\n",
       "    </tr>\n",
       "    <tr>\n",
       "      <th>4</th>\n",
       "      <td>5</td>\n",
       "      <td>38</td>\n",
       "      <td>0</td>\n",
       "      <td>13773</td>\n",
       "      <td>169</td>\n",
       "      <td>0</td>\n",
       "      <td>44</td>\n",
       "      <td>7</td>\n",
       "      <td>A</td>\n",
       "      <td>Active</td>\n",
       "      <td>30-40</td>\n",
       "      <td>N</td>\n",
       "      <td>0</td>\n",
       "    </tr>\n",
       "  </tbody>\n",
       "</table>\n",
       "</div>"
      ],
      "text/plain": [
       "   ID  Subscription length  Charge amount  Seconds of use  Frequency of use  \\\n",
       "0   1                   35              0            1420                41   \n",
       "1   2                   28              0             920                32   \n",
       "2   3                   40              0              88                 6   \n",
       "3   4                   38              0           13963               170   \n",
       "4   5                   38              0           13773               169   \n",
       "\n",
       "   Frequency of SMS  Distinct called numbers  Call failures Tariff plan  \\\n",
       "0                36                       20              1           A   \n",
       "1                20                       12              7           A   \n",
       "2                 8                        6              0           A   \n",
       "3                 9                       47              9           A   \n",
       "4                 0                       44              7           A   \n",
       "\n",
       "     Status Age group Complaints  Churn  \n",
       "0    Active     30-40          N      0  \n",
       "1    Active  Under 30          N      0  \n",
       "2  Inactive     30-40          N      1  \n",
       "3    Active     30-40          N      0  \n",
       "4    Active     30-40          N      0  "
      ]
     },
     "execution_count": 52,
     "metadata": {},
     "output_type": "execute_result"
    }
   ],
   "source": [
    "# lets import classification data \n",
    "import pandas as pd \n",
    "df = pd.read_csv(r\"C:\\Users\\YN\\Downloads\\iranian-telecom-churn (1).csv\")\n",
    "df.head(5)"
   ]
  },
  {
   "cell_type": "code",
   "execution_count": 53,
   "metadata": {},
   "outputs": [
    {
     "data": {
      "text/plain": [
       "ID                         0\n",
       "Subscription length        0\n",
       "Charge amount              0\n",
       "Seconds of use             0\n",
       "Frequency of use           0\n",
       "Frequency of SMS           0\n",
       "Distinct called numbers    0\n",
       "Call failures              0\n",
       "Tariff plan                0\n",
       "Status                     0\n",
       "Age group                  0\n",
       "Complaints                 0\n",
       "Churn                      0\n",
       "dtype: int64"
      ]
     },
     "execution_count": 53,
     "metadata": {},
     "output_type": "execute_result"
    }
   ],
   "source": [
    "df.isna().sum()"
   ]
  },
  {
   "cell_type": "code",
   "execution_count": 54,
   "metadata": {},
   "outputs": [
    {
     "data": {
      "text/html": [
       "<div>\n",
       "<style scoped>\n",
       "    .dataframe tbody tr th:only-of-type {\n",
       "        vertical-align: middle;\n",
       "    }\n",
       "\n",
       "    .dataframe tbody tr th {\n",
       "        vertical-align: top;\n",
       "    }\n",
       "\n",
       "    .dataframe thead th {\n",
       "        text-align: right;\n",
       "    }\n",
       "</style>\n",
       "<table border=\"1\" class=\"dataframe\">\n",
       "  <thead>\n",
       "    <tr style=\"text-align: right;\">\n",
       "      <th></th>\n",
       "      <th>ID</th>\n",
       "      <th>Subscription length</th>\n",
       "      <th>Charge amount</th>\n",
       "      <th>Seconds of use</th>\n",
       "      <th>Frequency of use</th>\n",
       "      <th>Frequency of SMS</th>\n",
       "      <th>Distinct called numbers</th>\n",
       "      <th>Call failures</th>\n",
       "      <th>Tariff plan</th>\n",
       "      <th>Status</th>\n",
       "      <th>Age group</th>\n",
       "      <th>Complaints</th>\n",
       "      <th>Churn</th>\n",
       "    </tr>\n",
       "  </thead>\n",
       "  <tbody>\n",
       "  </tbody>\n",
       "</table>\n",
       "</div>"
      ],
      "text/plain": [
       "Empty DataFrame\n",
       "Columns: [ID, Subscription length, Charge amount, Seconds of use, Frequency of use, Frequency of SMS, Distinct called numbers, Call failures, Tariff plan, Status, Age group, Complaints, Churn]\n",
       "Index: []"
      ]
     },
     "execution_count": 54,
     "metadata": {},
     "output_type": "execute_result"
    }
   ],
   "source": [
    "df[df.duplicated()]"
   ]
  },
  {
   "cell_type": "code",
   "execution_count": 77,
   "metadata": {},
   "outputs": [
    {
     "data": {
      "text/html": [
       "<div>\n",
       "<style scoped>\n",
       "    .dataframe tbody tr th:only-of-type {\n",
       "        vertical-align: middle;\n",
       "    }\n",
       "\n",
       "    .dataframe tbody tr th {\n",
       "        vertical-align: top;\n",
       "    }\n",
       "\n",
       "    .dataframe thead th {\n",
       "        text-align: right;\n",
       "    }\n",
       "</style>\n",
       "<table border=\"1\" class=\"dataframe\">\n",
       "  <thead>\n",
       "    <tr style=\"text-align: right;\">\n",
       "      <th></th>\n",
       "      <th>Tariff plan_A</th>\n",
       "      <th>Tariff plan_B</th>\n",
       "      <th>Status_Active</th>\n",
       "      <th>Status_Inactive</th>\n",
       "      <th>Age group_30-40</th>\n",
       "      <th>Age group_Over 40</th>\n",
       "      <th>Age group_Under 30</th>\n",
       "      <th>Complaints_N</th>\n",
       "      <th>Complaints_Y</th>\n",
       "    </tr>\n",
       "  </thead>\n",
       "  <tbody>\n",
       "    <tr>\n",
       "      <th>0</th>\n",
       "      <td>1.0</td>\n",
       "      <td>0.0</td>\n",
       "      <td>1.0</td>\n",
       "      <td>0.0</td>\n",
       "      <td>1.0</td>\n",
       "      <td>0.0</td>\n",
       "      <td>0.0</td>\n",
       "      <td>1.0</td>\n",
       "      <td>0.0</td>\n",
       "    </tr>\n",
       "    <tr>\n",
       "      <th>1</th>\n",
       "      <td>1.0</td>\n",
       "      <td>0.0</td>\n",
       "      <td>1.0</td>\n",
       "      <td>0.0</td>\n",
       "      <td>0.0</td>\n",
       "      <td>0.0</td>\n",
       "      <td>1.0</td>\n",
       "      <td>1.0</td>\n",
       "      <td>0.0</td>\n",
       "    </tr>\n",
       "    <tr>\n",
       "      <th>2</th>\n",
       "      <td>1.0</td>\n",
       "      <td>0.0</td>\n",
       "      <td>0.0</td>\n",
       "      <td>1.0</td>\n",
       "      <td>1.0</td>\n",
       "      <td>0.0</td>\n",
       "      <td>0.0</td>\n",
       "      <td>1.0</td>\n",
       "      <td>0.0</td>\n",
       "    </tr>\n",
       "    <tr>\n",
       "      <th>3</th>\n",
       "      <td>1.0</td>\n",
       "      <td>0.0</td>\n",
       "      <td>1.0</td>\n",
       "      <td>0.0</td>\n",
       "      <td>1.0</td>\n",
       "      <td>0.0</td>\n",
       "      <td>0.0</td>\n",
       "      <td>1.0</td>\n",
       "      <td>0.0</td>\n",
       "    </tr>\n",
       "    <tr>\n",
       "      <th>4</th>\n",
       "      <td>1.0</td>\n",
       "      <td>0.0</td>\n",
       "      <td>1.0</td>\n",
       "      <td>0.0</td>\n",
       "      <td>1.0</td>\n",
       "      <td>0.0</td>\n",
       "      <td>0.0</td>\n",
       "      <td>1.0</td>\n",
       "      <td>0.0</td>\n",
       "    </tr>\n",
       "    <tr>\n",
       "      <th>...</th>\n",
       "      <td>...</td>\n",
       "      <td>...</td>\n",
       "      <td>...</td>\n",
       "      <td>...</td>\n",
       "      <td>...</td>\n",
       "      <td>...</td>\n",
       "      <td>...</td>\n",
       "      <td>...</td>\n",
       "      <td>...</td>\n",
       "    </tr>\n",
       "    <tr>\n",
       "      <th>3145</th>\n",
       "      <td>1.0</td>\n",
       "      <td>0.0</td>\n",
       "      <td>0.0</td>\n",
       "      <td>1.0</td>\n",
       "      <td>0.0</td>\n",
       "      <td>0.0</td>\n",
       "      <td>1.0</td>\n",
       "      <td>1.0</td>\n",
       "      <td>0.0</td>\n",
       "    </tr>\n",
       "    <tr>\n",
       "      <th>3146</th>\n",
       "      <td>1.0</td>\n",
       "      <td>0.0</td>\n",
       "      <td>0.0</td>\n",
       "      <td>1.0</td>\n",
       "      <td>1.0</td>\n",
       "      <td>0.0</td>\n",
       "      <td>0.0</td>\n",
       "      <td>1.0</td>\n",
       "      <td>0.0</td>\n",
       "    </tr>\n",
       "    <tr>\n",
       "      <th>3147</th>\n",
       "      <td>1.0</td>\n",
       "      <td>0.0</td>\n",
       "      <td>1.0</td>\n",
       "      <td>0.0</td>\n",
       "      <td>0.0</td>\n",
       "      <td>1.0</td>\n",
       "      <td>0.0</td>\n",
       "      <td>1.0</td>\n",
       "      <td>0.0</td>\n",
       "    </tr>\n",
       "    <tr>\n",
       "      <th>3148</th>\n",
       "      <td>1.0</td>\n",
       "      <td>0.0</td>\n",
       "      <td>1.0</td>\n",
       "      <td>0.0</td>\n",
       "      <td>0.0</td>\n",
       "      <td>0.0</td>\n",
       "      <td>1.0</td>\n",
       "      <td>1.0</td>\n",
       "      <td>0.0</td>\n",
       "    </tr>\n",
       "    <tr>\n",
       "      <th>3149</th>\n",
       "      <td>1.0</td>\n",
       "      <td>0.0</td>\n",
       "      <td>1.0</td>\n",
       "      <td>0.0</td>\n",
       "      <td>1.0</td>\n",
       "      <td>0.0</td>\n",
       "      <td>0.0</td>\n",
       "      <td>1.0</td>\n",
       "      <td>0.0</td>\n",
       "    </tr>\n",
       "  </tbody>\n",
       "</table>\n",
       "<p>3150 rows × 9 columns</p>\n",
       "</div>"
      ],
      "text/plain": [
       "      Tariff plan_A  Tariff plan_B  Status_Active  Status_Inactive  \\\n",
       "0               1.0            0.0            1.0              0.0   \n",
       "1               1.0            0.0            1.0              0.0   \n",
       "2               1.0            0.0            0.0              1.0   \n",
       "3               1.0            0.0            1.0              0.0   \n",
       "4               1.0            0.0            1.0              0.0   \n",
       "...             ...            ...            ...              ...   \n",
       "3145            1.0            0.0            0.0              1.0   \n",
       "3146            1.0            0.0            0.0              1.0   \n",
       "3147            1.0            0.0            1.0              0.0   \n",
       "3148            1.0            0.0            1.0              0.0   \n",
       "3149            1.0            0.0            1.0              0.0   \n",
       "\n",
       "      Age group_30-40  Age group_Over 40  Age group_Under 30  Complaints_N  \\\n",
       "0                 1.0                0.0                 0.0           1.0   \n",
       "1                 0.0                0.0                 1.0           1.0   \n",
       "2                 1.0                0.0                 0.0           1.0   \n",
       "3                 1.0                0.0                 0.0           1.0   \n",
       "4                 1.0                0.0                 0.0           1.0   \n",
       "...               ...                ...                 ...           ...   \n",
       "3145              0.0                0.0                 1.0           1.0   \n",
       "3146              1.0                0.0                 0.0           1.0   \n",
       "3147              0.0                1.0                 0.0           1.0   \n",
       "3148              0.0                0.0                 1.0           1.0   \n",
       "3149              1.0                0.0                 0.0           1.0   \n",
       "\n",
       "      Complaints_Y  \n",
       "0              0.0  \n",
       "1              0.0  \n",
       "2              0.0  \n",
       "3              0.0  \n",
       "4              0.0  \n",
       "...            ...  \n",
       "3145           0.0  \n",
       "3146           0.0  \n",
       "3147           0.0  \n",
       "3148           0.0  \n",
       "3149           0.0  \n",
       "\n",
       "[3150 rows x 9 columns]"
      ]
     },
     "execution_count": 77,
     "metadata": {},
     "output_type": "execute_result"
    }
   ],
   "source": []
  },
  {
   "cell_type": "code",
   "execution_count": 78,
   "metadata": {},
   "outputs": [],
   "source": [
    "x = x.join(encoded_data)\n",
    "x = x.drop(cat_cols,axis=1)"
   ]
  },
  {
   "cell_type": "code",
   "execution_count": 79,
   "metadata": {},
   "outputs": [],
   "source": [
    "x = df.drop('Churn', axis =1 )\n",
    "y = df['Churn']\n",
    "x_train,x_test,y_train,y_test=train_test_split(x,y,random_state= 38, test_size=.3)"
   ]
  },
  {
   "cell_type": "code",
   "execution_count": null,
   "metadata": {},
   "outputs": [],
   "source": [
    "# seems our data is cleaned and ready for classification \n",
    "from sklearn.model_selection import GridSearchCV\n",
    "from sklearn.svm import SVC\n",
    "\n",
    "x_train,x_test,y_train,y_test=train_test_split(x,y,random_state= 38, test_size=.3)\n",
    "svc=SVC()\n",
    "param_grid= {\n",
    "    'C': [0.1, 1],  # Regularization parameter\n",
    "    'gamma': [.1, 0.01, 0.001],  # Kernel coefficient\n",
    "    'kernel': ['linear', 'rbf', 'poly']  # Type of kernel \n",
    "    }\n",
    "gs= GridSearchCV(svc,param_grid,cv=5,scoring='f1_macro')\n",
    "gs.fit(x_train,y_train)\n",
    "print(f\"Best Parameters is {gs.best_params_}\")\n",
    "print(f\"best score is {gs.best_score_}\")\n",
    "best_model = gs.best_estimator_\n",
    "y_hat= best_model.predict(x_test)\n",
    "from sklearn.metrics import classification_report\n",
    "print(classification_report(y_test,y_hat))"
   ]
  },
  {
   "cell_type": "code",
   "execution_count": 62,
   "metadata": {},
   "outputs": [
    {
     "name": "stdout",
     "output_type": "stream",
     "text": [
      "<class 'pandas.core.frame.DataFrame'>\n",
      "RangeIndex: 3150 entries, 0 to 3149\n",
      "Data columns (total 13 columns):\n",
      " #   Column                   Non-Null Count  Dtype \n",
      "---  ------                   --------------  ----- \n",
      " 0   ID                       3150 non-null   int64 \n",
      " 1   Subscription length      3150 non-null   int64 \n",
      " 2   Charge amount            3150 non-null   int64 \n",
      " 3   Seconds of use           3150 non-null   int64 \n",
      " 4   Frequency of use         3150 non-null   int64 \n",
      " 5   Frequency of SMS         3150 non-null   int64 \n",
      " 6   Distinct called numbers  3150 non-null   int64 \n",
      " 7   Call failures            3150 non-null   int64 \n",
      " 8   Tariff plan              3150 non-null   object\n",
      " 9   Status                   3150 non-null   object\n",
      " 10  Age group                3150 non-null   object\n",
      " 11  Complaints               3150 non-null   object\n",
      " 12  Churn                    3150 non-null   int64 \n",
      "dtypes: int64(9), object(4)\n",
      "memory usage: 320.0+ KB\n"
     ]
    }
   ],
   "source": [
    "df.info()"
   ]
  },
  {
   "cell_type": "code",
   "execution_count": 63,
   "metadata": {},
   "outputs": [
    {
     "data": {
      "text/plain": [
       "0       N\n",
       "1       N\n",
       "2       N\n",
       "3       N\n",
       "4       N\n",
       "       ..\n",
       "3145    N\n",
       "3146    N\n",
       "3147    N\n",
       "3148    N\n",
       "3149    N\n",
       "Name: Complaints, Length: 3150, dtype: object"
      ]
     },
     "execution_count": 63,
     "metadata": {},
     "output_type": "execute_result"
    }
   ],
   "source": [
    "df['Complaints']"
   ]
  },
  {
   "cell_type": "code",
   "execution_count": 75,
   "metadata": {},
   "outputs": [
    {
     "data": {
      "text/html": [
       "<div>\n",
       "<style scoped>\n",
       "    .dataframe tbody tr th:only-of-type {\n",
       "        vertical-align: middle;\n",
       "    }\n",
       "\n",
       "    .dataframe tbody tr th {\n",
       "        vertical-align: top;\n",
       "    }\n",
       "\n",
       "    .dataframe thead th {\n",
       "        text-align: right;\n",
       "    }\n",
       "</style>\n",
       "<table border=\"1\" class=\"dataframe\">\n",
       "  <thead>\n",
       "    <tr style=\"text-align: right;\">\n",
       "      <th></th>\n",
       "      <th>ID</th>\n",
       "      <th>Subscription length</th>\n",
       "      <th>Charge amount</th>\n",
       "      <th>Seconds of use</th>\n",
       "      <th>Frequency of use</th>\n",
       "      <th>Frequency of SMS</th>\n",
       "      <th>Distinct called numbers</th>\n",
       "      <th>Call failures</th>\n",
       "      <th>Tariff plan</th>\n",
       "      <th>Status</th>\n",
       "      <th>Age group</th>\n",
       "      <th>Complaints</th>\n",
       "    </tr>\n",
       "  </thead>\n",
       "  <tbody>\n",
       "    <tr>\n",
       "      <th>0</th>\n",
       "      <td>1</td>\n",
       "      <td>35</td>\n",
       "      <td>0</td>\n",
       "      <td>1420</td>\n",
       "      <td>41</td>\n",
       "      <td>36</td>\n",
       "      <td>20</td>\n",
       "      <td>1</td>\n",
       "      <td>A</td>\n",
       "      <td>Active</td>\n",
       "      <td>30-40</td>\n",
       "      <td>N</td>\n",
       "    </tr>\n",
       "    <tr>\n",
       "      <th>1</th>\n",
       "      <td>2</td>\n",
       "      <td>28</td>\n",
       "      <td>0</td>\n",
       "      <td>920</td>\n",
       "      <td>32</td>\n",
       "      <td>20</td>\n",
       "      <td>12</td>\n",
       "      <td>7</td>\n",
       "      <td>A</td>\n",
       "      <td>Active</td>\n",
       "      <td>Under 30</td>\n",
       "      <td>N</td>\n",
       "    </tr>\n",
       "    <tr>\n",
       "      <th>2</th>\n",
       "      <td>3</td>\n",
       "      <td>40</td>\n",
       "      <td>0</td>\n",
       "      <td>88</td>\n",
       "      <td>6</td>\n",
       "      <td>8</td>\n",
       "      <td>6</td>\n",
       "      <td>0</td>\n",
       "      <td>A</td>\n",
       "      <td>Inactive</td>\n",
       "      <td>30-40</td>\n",
       "      <td>N</td>\n",
       "    </tr>\n",
       "    <tr>\n",
       "      <th>3</th>\n",
       "      <td>4</td>\n",
       "      <td>38</td>\n",
       "      <td>0</td>\n",
       "      <td>13963</td>\n",
       "      <td>170</td>\n",
       "      <td>9</td>\n",
       "      <td>47</td>\n",
       "      <td>9</td>\n",
       "      <td>A</td>\n",
       "      <td>Active</td>\n",
       "      <td>30-40</td>\n",
       "      <td>N</td>\n",
       "    </tr>\n",
       "    <tr>\n",
       "      <th>4</th>\n",
       "      <td>5</td>\n",
       "      <td>38</td>\n",
       "      <td>0</td>\n",
       "      <td>13773</td>\n",
       "      <td>169</td>\n",
       "      <td>0</td>\n",
       "      <td>44</td>\n",
       "      <td>7</td>\n",
       "      <td>A</td>\n",
       "      <td>Active</td>\n",
       "      <td>30-40</td>\n",
       "      <td>N</td>\n",
       "    </tr>\n",
       "  </tbody>\n",
       "</table>\n",
       "</div>"
      ],
      "text/plain": [
       "   ID  Subscription length  Charge amount  Seconds of use  Frequency of use  \\\n",
       "0   1                   35              0            1420                41   \n",
       "1   2                   28              0             920                32   \n",
       "2   3                   40              0              88                 6   \n",
       "3   4                   38              0           13963               170   \n",
       "4   5                   38              0           13773               169   \n",
       "\n",
       "   Frequency of SMS  Distinct called numbers  Call failures Tariff plan  \\\n",
       "0                36                       20              1           A   \n",
       "1                20                       12              7           A   \n",
       "2                 8                        6              0           A   \n",
       "3                 9                       47              9           A   \n",
       "4                 0                       44              7           A   \n",
       "\n",
       "     Status Age group Complaints  \n",
       "0    Active     30-40          N  \n",
       "1    Active  Under 30          N  \n",
       "2  Inactive     30-40          N  \n",
       "3    Active     30-40          N  \n",
       "4    Active     30-40          N  "
      ]
     },
     "execution_count": 75,
     "metadata": {},
     "output_type": "execute_result"
    }
   ],
   "source": [
    "x.head()"
   ]
  },
  {
   "cell_type": "code",
   "execution_count": 10,
   "metadata": {},
   "outputs": [
    {
     "name": "stdout",
     "output_type": "stream",
     "text": [
      "Total score for model LinearRegression() is 0.48 with plus/minus (+/- 0.05)\n",
      "Total score for model SVR(C=1, kernel='sigmoid') is 0.35 with plus/minus (+/- 0.03)\n"
     ]
    }
   ],
   "source": [
    "import pandas as pd \n",
    "import numpy as np \n",
    "from sklearn import datasets \n",
    "from sklearn.model_selection import cross_val_score\n",
    "from sklearn.model_selection import train_test_split \n",
    "from sklearn.linear_model import LinearRegression \n",
    "from sklearn.svm import SVR \n",
    "x = datasets.load_diabetes().data\n",
    "y =datasets.load_diabetes().target\n",
    "\n",
    "lr_model = LinearRegression()\n",
    "svr_model= SVR(kernel= 'sigmoid', C=1)\n",
    "models =[lr_model,svr_model]\n",
    "for i in models: \n",
    "    score = cross_val_score(i,x,y,cv=5)\n",
    "    print(f\"Total score for model {i} is {(score.mean()).round(2)} with plus/minus (+/- {(score.std()).round(2)})\")\n"
   ]
  },
  {
   "cell_type": "markdown",
   "metadata": {},
   "source": [
    "#"
   ]
  },
  {
   "cell_type": "markdown",
   "metadata": {},
   "source": [
    "# Grid Search to choose the parameter "
   ]
  },
  {
   "cell_type": "code",
   "execution_count": 27,
   "metadata": {},
   "outputs": [
    {
     "name": "stdout",
     "output_type": "stream",
     "text": [
      "Best Parameters is {'C': 1, 'kernel': 'sigmoid'}\n",
      "best score is 0.3241392557958659\n",
      "best model is SVR(C=1, kernel='sigmoid')\n"
     ]
    },
    {
     "data": {
      "text/plain": [
       "1.0"
      ]
     },
     "execution_count": 27,
     "metadata": {},
     "output_type": "execute_result"
    }
   ],
   "source": [
    "# in below cell we need to check different parameters between them\n",
    "from sklearn.model_selection import GridSearchCV\n",
    "import matplotlib.pyplot as plt \n",
    "svr= SVR()\n",
    "x_train,x_test,y_train,y_test=train_test_split(x,y,test_size=.2,random_state=38)\n",
    "params_grid = {\n",
    "    'C':[.5,1],\n",
    "    'kernel':['linear', 'rbf', 'poly','sigmoid']\n",
    "}\n",
    "gs = GridSearchCV(svr,params_grid,cv=3)\n",
    "gs.fit(x_train,y_train)\n",
    "print(f\"Best Parameters is {gs.best_params_}\")\n",
    "print(f\"best score is {gs.best_score_}\")\n",
    "print(f\"best model is {gs.best_estimator_}\")\n",
    "svr=gs.best_estimator_\n",
    "y_hat=svr.predict(x_test)\n",
    "svr.score(x_test,y_hat)"
   ]
  },
  {
   "cell_type": "code",
   "execution_count": null,
   "metadata": {},
   "outputs": [],
   "source": []
  }
 ],
 "metadata": {
  "kernelspec": {
   "display_name": "Python 3",
   "language": "python",
   "name": "python3"
  },
  "language_info": {
   "codemirror_mode": {
    "name": "ipython",
    "version": 3
   },
   "file_extension": ".py",
   "mimetype": "text/x-python",
   "name": "python",
   "nbconvert_exporter": "python",
   "pygments_lexer": "ipython3",
   "version": "3.11.0"
  }
 },
 "nbformat": 4,
 "nbformat_minor": 2
}
